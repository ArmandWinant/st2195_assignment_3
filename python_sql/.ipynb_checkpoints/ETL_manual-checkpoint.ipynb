{
 "cells": [
  {
   "cell_type": "code",
   "execution_count": 1,
   "id": "2d911d6c",
   "metadata": {},
   "outputs": [],
   "source": [
    "import os\n",
    "import pandas as pd\n",
    "import os\n",
    "from pathlib import Path\n",
    "import glob\n",
    "import re\n",
    "from io import BytesIO\n",
    "import bz2\n",
    "from datetime import datetime, time\n",
    "from sql_queries import planes_table_insert,  carriers_table_insert, airports_table_insert, on_time_table_insert\n",
    "from aws_utils import *\n",
    "from create_tables import *"
   ]
  },
  {
   "cell_type": "code",
   "execution_count": 2,
   "id": "f53e2092",
   "metadata": {},
   "outputs": [],
   "source": [
    "def process_csv_file(file_name, cur, insert_query):\n",
    "    df = pd.read_csv(file_name)\n",
    "    cur.executemany(insert_query, df.values.tolist())"
   ]
  },
  {
   "cell_type": "code",
   "execution_count": 3,
   "id": "0db9de17",
   "metadata": {},
   "outputs": [],
   "source": [
    "def process_bz2_file(file_name, cur, insert_query):\n",
    "    with bz2.open(file_name, \"rb\") as f:\n",
    "        data = f.read()\n",
    "        df = pd.read_csv(BytesIO(data), encoding='latin_1')\n",
    "        cur.executemany(insert_query, df.values.tolist())"
   ]
  },
  {
   "cell_type": "code",
   "execution_count": 4,
   "id": "2fde79a1",
   "metadata": {},
   "outputs": [],
   "source": [
    "def process_data(cur, conn):\n",
    "    \"\"\"\n",
    "    Description: This function is responsible for listing the files in a directory,\n",
    "    and then executing the ingest process for each file according to the function\n",
    "    that performs the transformation to save it to the database.\n",
    "\n",
    "    Arguments:\n",
    "        cur: the cursor object.\n",
    "        conn: connection to the database.\n",
    "\n",
    "    Returns:\n",
    "        None\n",
    "    \"\"\"\n",
    "    data_directory = str(Path.home()) + \"/Desktop/University/data-science-and-business-analytics/programming-for-data-science/dataverse_files/\"\n",
    "    \n",
    "    # get all files matching extension from directory\n",
    "    csv_files = []\n",
    "    for root, dirs, files in os.walk(data_directory):\n",
    "        files = glob.glob(os.path.join(root,'*.csv'))\n",
    "        for f in files :\n",
    "            csv_files.append(os.path.abspath(f))\n",
    "            \n",
    "    # get all files matching extension from directory\n",
    "    bz2_files = []\n",
    "    for root, dirs, files in os.walk(data_directory):\n",
    "        files = glob.glob(os.path.join(root,'*.bz2'))\n",
    "        for f in files :\n",
    "            bz2_files.append(os.path.abspath(f))\n",
    "\n",
    "    # iterate over csv files and process\n",
    "    for i, datafile in enumerate(csv_files, 1):\n",
    "        if datafile.endswith('plane-data.csv'):\n",
    "            process_csv_file(datafile, cur, planes_table_insert)\n",
    "            conn.commit()\n",
    "            print('Planes file upload successful')\n",
    "        elif datafile.endswith('carriers.csv'):\n",
    "            process_csv_file(datafile, cur, carriers_table_insert)\n",
    "            conn.commit()\n",
    "            print('Carriers file upload successful')\n",
    "        elif datafile.endswith('airports.csv'):\n",
    "            process_csv_file(datafile, cur, airports_table_insert)\n",
    "            conn.commit()\n",
    "            print('Airports file upload successful')\n",
    "            \n",
    "    \n",
    "    # iterate over bz2 files and process\n",
    "    year_re = r'200(6|7|8){1}.csv.bz2$'\n",
    "    for i, datafile in enumerate(bz2_files, 1):\n",
    "        match = re.search(year_re, datafile)\n",
    "        \n",
    "        if match:\n",
    "            process_bz2_file(datafile, cur, on_time_table_insert)\n",
    "            conn.commit()\n",
    "            print(\"Flight file upload successful\")"
   ]
  },
  {
   "cell_type": "code",
   "execution_count": 5,
   "id": "7d518383",
   "metadata": {},
   "outputs": [
    {
     "name": "stdout",
     "output_type": "stream",
     "text": [
      "/Users/bastienwinant/Desktop/University/data-science-and-business-analytics/programming-for-data-science/st2195_assignment_3\n",
      "/Users/bastienwinant/Desktop/University/data-science-and-business-analytics/programming-for-data-science/st2195_assignment_3/python_sql\n",
      "Planes file upload successful\n",
      "Airports file upload successful\n",
      "Carriers file upload successful\n",
      "Flight file upload successful\n",
      "Flight file upload successful\n",
      "Flight file upload successful\n"
     ]
    },
    {
     "ename": "NameError",
     "evalue": "name 'ClientError' is not defined",
     "output_type": "error",
     "traceback": [
      "\u001b[0;31m---------------------------------------------------------------------------\u001b[0m",
      "\u001b[0;31mFileNotFoundError\u001b[0m                         Traceback (most recent call last)",
      "\u001b[0;32m~/Desktop/University/data-science-and-business-analytics/programming-for-data-science/st2195_assignment_3/python_sql/aws_utils.py\u001b[0m in \u001b[0;36mupload_dbfile\u001b[0;34m(filename)\u001b[0m\n\u001b[1;32m     72\u001b[0m         \u001b[0;31m# open the file and upload to S3 bucket\u001b[0m\u001b[0;34m\u001b[0m\u001b[0;34m\u001b[0m\u001b[0m\n\u001b[0;32m---> 73\u001b[0;31m         \u001b[0;32mwith\u001b[0m \u001b[0mopen\u001b[0m\u001b[0;34m(\u001b[0m\u001b[0mfilename\u001b[0m\u001b[0;34m,\u001b[0m \u001b[0;34m'rb'\u001b[0m\u001b[0;34m)\u001b[0m \u001b[0;32mas\u001b[0m \u001b[0mdata\u001b[0m\u001b[0;34m:\u001b[0m\u001b[0;34m\u001b[0m\u001b[0;34m\u001b[0m\u001b[0m\n\u001b[0m\u001b[1;32m     74\u001b[0m             \u001b[0mclient\u001b[0m\u001b[0;34m.\u001b[0m\u001b[0mupload_fileobj\u001b[0m\u001b[0;34m(\u001b[0m\u001b[0mdata\u001b[0m\u001b[0;34m,\u001b[0m \u001b[0;34m'flights-db'\u001b[0m\u001b[0;34m,\u001b[0m \u001b[0;34m'db-file'\u001b[0m\u001b[0;34m)\u001b[0m\u001b[0;34m\u001b[0m\u001b[0;34m\u001b[0m\u001b[0m\n",
      "\u001b[0;31mFileNotFoundError\u001b[0m: [Errno 2] No such file or directory: 'airline2.db'",
      "\nDuring handling of the above exception, another exception occurred:\n",
      "\u001b[0;31mNameError\u001b[0m                                 Traceback (most recent call last)",
      "\u001b[0;32m/var/folders/ld/g047qhg94d7fpkft6h6jkt140000gn/T/ipykernel_7420/1958928137.py\u001b[0m in \u001b[0;36m<module>\u001b[0;34m\u001b[0m\n\u001b[1;32m      8\u001b[0m \u001b[0mconn\u001b[0m\u001b[0;34m.\u001b[0m\u001b[0mclose\u001b[0m\u001b[0;34m(\u001b[0m\u001b[0;34m)\u001b[0m\u001b[0;34m\u001b[0m\u001b[0;34m\u001b[0m\u001b[0m\n\u001b[1;32m      9\u001b[0m \u001b[0;34m\u001b[0m\u001b[0m\n\u001b[0;32m---> 10\u001b[0;31m \u001b[0mupload_dbfile\u001b[0m\u001b[0;34m(\u001b[0m\u001b[0;34m'airline2.db'\u001b[0m\u001b[0;34m)\u001b[0m\u001b[0;34m\u001b[0m\u001b[0;34m\u001b[0m\u001b[0m\n\u001b[0m",
      "\u001b[0;32m~/Desktop/University/data-science-and-business-analytics/programming-for-data-science/st2195_assignment_3/python_sql/aws_utils.py\u001b[0m in \u001b[0;36mupload_dbfile\u001b[0;34m(filename)\u001b[0m\n\u001b[1;32m     76\u001b[0m         \u001b[0;31m# delete the local file\u001b[0m\u001b[0;34m\u001b[0m\u001b[0;34m\u001b[0m\u001b[0m\n\u001b[1;32m     77\u001b[0m         \u001b[0mos\u001b[0m\u001b[0;34m.\u001b[0m\u001b[0mremove\u001b[0m\u001b[0;34m(\u001b[0m\u001b[0mfilename\u001b[0m\u001b[0;34m)\u001b[0m\u001b[0;34m\u001b[0m\u001b[0;34m\u001b[0m\u001b[0m\n\u001b[0;32m---> 78\u001b[0;31m     \u001b[0;32mexcept\u001b[0m \u001b[0mClientError\u001b[0m \u001b[0;32mas\u001b[0m \u001b[0me\u001b[0m\u001b[0;34m:\u001b[0m\u001b[0;34m\u001b[0m\u001b[0;34m\u001b[0m\u001b[0m\n\u001b[0m\u001b[1;32m     79\u001b[0m         \u001b[0mprint\u001b[0m\u001b[0;34m(\u001b[0m\u001b[0;34m\"Error uploading database file\"\u001b[0m\u001b[0;34m)\u001b[0m\u001b[0;34m\u001b[0m\u001b[0;34m\u001b[0m\u001b[0m\n",
      "\u001b[0;31mNameError\u001b[0m: name 'ClientError' is not defined"
     ]
    }
   ],
   "source": [
    "# initialize a new db\n",
    "cur, conn = initialise_db()\n",
    "drop_tables(cur, conn)\n",
    "create_tables(cur, conn)\n",
    "\n",
    "process_data(cur, conn)\n",
    "\n",
    "conn.close()\n",
    "\n",
    "# upload_dbfile('airline2.db')"
   ]
  },
  {
   "cell_type": "code",
   "execution_count": null,
   "id": "2c8c2159",
   "metadata": {},
   "outputs": [],
   "source": []
  }
 ],
 "metadata": {
  "kernelspec": {
   "display_name": "Python 3 (ipykernel)",
   "language": "python",
   "name": "python3"
  },
  "language_info": {
   "codemirror_mode": {
    "name": "ipython",
    "version": 3
   },
   "file_extension": ".py",
   "mimetype": "text/x-python",
   "name": "python",
   "nbconvert_exporter": "python",
   "pygments_lexer": "ipython3",
   "version": "3.9.12"
  }
 },
 "nbformat": 4,
 "nbformat_minor": 5
}
