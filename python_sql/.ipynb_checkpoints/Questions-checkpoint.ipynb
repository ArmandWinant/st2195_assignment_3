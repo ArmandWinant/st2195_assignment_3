{
 "cells": [
  {
   "cell_type": "code",
   "execution_count": 1,
   "id": "32f29017",
   "metadata": {},
   "outputs": [],
   "source": [
    "import sqlite3\n",
    "import pandas as pd\n",
    "from aws_utils import *"
   ]
  },
  {
   "cell_type": "code",
   "execution_count": null,
   "id": "864c2b05",
   "metadata": {},
   "outputs": [],
   "source": [
    "# client, resource = aws_connect()"
   ]
  },
  {
   "cell_type": "code",
   "execution_count": 2,
   "id": "334e6966",
   "metadata": {},
   "outputs": [],
   "source": [
    "# client.download_file('flights-db', 'db-file', 'airline2.db')\n",
    "os.chdir('..')"
   ]
  },
  {
   "cell_type": "code",
   "execution_count": 3,
   "id": "3e51d391",
   "metadata": {},
   "outputs": [],
   "source": [
    "conn = sqlite3.connect(\"airline2.db\")\n",
    "cur = conn.cursor()"
   ]
  },
  {
   "cell_type": "code",
   "execution_count": 4,
   "id": "53c516cf",
   "metadata": {},
   "outputs": [
    {
     "data": {
      "text/plain": [
       "[('airports',), ('carriers',), ('on_time',), ('planes',)]"
      ]
     },
     "execution_count": 4,
     "metadata": {},
     "output_type": "execute_result"
    }
   ],
   "source": [
    "cur.execute(\"\"\"\n",
    "    SELECT name FROM sqlite_schema\n",
    "    WHERE type='table'\n",
    "    ORDER BY name;\n",
    "\"\"\")\n",
    "cur.fetchall()"
   ]
  },
  {
   "cell_type": "code",
   "execution_count": 5,
   "id": "72da0084",
   "metadata": {},
   "outputs": [
    {
     "data": {
      "text/plain": [
       "['Year',\n",
       " 'Month',\n",
       " 'DayofMonth',\n",
       " 'DayOfWeek',\n",
       " 'DepTime',\n",
       " 'CRSDepTime',\n",
       " 'ArrTime',\n",
       " 'CRSArrTime',\n",
       " 'UniqueCarrier',\n",
       " 'FlightNum',\n",
       " 'TailNum',\n",
       " 'ActualElapsedTime',\n",
       " 'CRSElapsedTime',\n",
       " 'AirTime',\n",
       " 'ArrDelay',\n",
       " 'DepDelay',\n",
       " 'Origin',\n",
       " 'Dest',\n",
       " 'Distance',\n",
       " 'TaxiIn',\n",
       " 'TaxiOut',\n",
       " 'Cancelled',\n",
       " 'CancellationCode',\n",
       " 'Diverted',\n",
       " 'CarrierDelay',\n",
       " 'WeatherDelay',\n",
       " 'NASDelay',\n",
       " 'SecurityDelay',\n",
       " 'LateAircraftDelay']"
      ]
     },
     "execution_count": 5,
     "metadata": {},
     "output_type": "execute_result"
    }
   ],
   "source": [
    "cur.execute(\"\"\"\n",
    "    SELECT * FROM on_time LIMIT 10;\n",
    "\"\"\")\n",
    "names = list(map(lambda x: x[0], cur.description))\n",
    "# cur.fetchall()\n",
    "names"
   ]
  },
  {
   "cell_type": "markdown",
   "id": "7b6abd59",
   "metadata": {},
   "source": [
    "### Which of the following airplanes has the lowest associated average departure delay (excluding Cancelled and Diverted flights)?"
   ]
  },
  {
   "cell_type": "code",
   "execution_count": 12,
   "id": "82fc4708",
   "metadata": {},
   "outputs": [],
   "source": [
    "q1 = \"\"\"\n",
    "    SELECT\n",
    "        model AS model,\n",
    "        AVG(on_time.DepDelay) AS avg_delay\n",
    "    FROM planes\n",
    "    JOIN on_time USING(TailNum)\n",
    "    WHERE on_time.Cancelled = 0\n",
    "    AND on_time.Diverted = 0\n",
    "    AND on_time.DepDelay > 0\n",
    "    GROUP BY model\n",
    "    ORDER BY avg_delay\n",
    "    LIMIT 1\n",
    "\"\"\""
   ]
  },
  {
   "cell_type": "code",
   "execution_count": 13,
   "id": "007700cc",
   "metadata": {},
   "outputs": [
    {
     "data": {
      "text/plain": [
       "('737-230', 12.956403269754768)"
      ]
     },
     "execution_count": 13,
     "metadata": {},
     "output_type": "execute_result"
    }
   ],
   "source": [
    "cur.execute(q1)\n",
    "result = cur.fetchone()\n",
    "result"
   ]
  },
  {
   "cell_type": "markdown",
   "id": "3a1c6c40",
   "metadata": {},
   "source": [
    "### Which of the following cities has the highest number of inbound flights (excluding Cancelled flights)?"
   ]
  },
  {
   "cell_type": "code",
   "execution_count": 14,
   "id": "69f1cf7f",
   "metadata": {},
   "outputs": [],
   "source": [
    "q2 = \"\"\"\n",
    "    SELECT\n",
    "        airports.city AS city,\n",
    "        COUNT(*) AS total\n",
    "    FROM airports\n",
    "    JOIN on_time\n",
    "    ON on_time.Dest = airports.iata\n",
    "    WHERE on_time.Cancelled = 0\n",
    "    GROUP BY airports.city\n",
    "    ORDER BY total DESC\n",
    "    LIMIT 1;\n",
    "\"\"\""
   ]
  },
  {
   "cell_type": "code",
   "execution_count": 15,
   "id": "f92b041d",
   "metadata": {},
   "outputs": [
    {
     "data": {
      "text/plain": [
       "('Chicago', 1051340)"
      ]
     },
     "execution_count": 15,
     "metadata": {},
     "output_type": "execute_result"
    }
   ],
   "source": [
    "cur.execute(q2)\n",
    "result = cur.fetchone()\n",
    "result"
   ]
  },
  {
   "cell_type": "markdown",
   "id": "db06b1a3",
   "metadata": {},
   "source": [
    "### Which of the following companies has the highest number of Cancelled flights, relative to their number of total flights?"
   ]
  },
  {
   "cell_type": "code",
   "execution_count": 16,
   "id": "03d96655",
   "metadata": {},
   "outputs": [],
   "source": [
    "q3 = \"\"\"\n",
    "    SELECT\n",
    "        q1.carrier AS carrier,\n",
    "        (CAST(q1.numerator AS FLOAT)/ CAST(q2.denominator AS FLOAT)) AS ratio\n",
    "    FROM (\n",
    "        SELECT\n",
    "            carriers.Description AS carrier,\n",
    "            COUNT(*) AS numerator\n",
    "        FROM carriers\n",
    "        JOIN on_time\n",
    "        ON on_time.UniqueCarrier = carriers.code\n",
    "        WHERE on_time.Cancelled = 1\n",
    "        AND carriers.Description IN ('United Air Lines Inc.', 'American Airlines Inc.', 'Pinnacle Airlines Inc.', 'Delta Air Lines Inc.')\n",
    "        GROUP BY carriers.Description) AS q1\n",
    "    JOIN (\n",
    "        SELECT\n",
    "            carriers.Description AS carrier,\n",
    "            COUNT(*) AS denominator\n",
    "        FROM carriers\n",
    "        JOIN on_time\n",
    "        ON on_time.UniqueCarrier = carriers.code\n",
    "        WHERE carriers.Description IN ('United Air Lines Inc.', 'American Airlines Inc.', 'Pinnacle Airlines Inc.', 'Delta Air Lines Inc.')\n",
    "        GROUP BY carriers.Description) AS q2 USING(carrier)\n",
    "    ORDER BY ratio DESC\n",
    "    LIMIT 1;\n",
    "\"\"\""
   ]
  },
  {
   "cell_type": "code",
   "execution_count": 17,
   "id": "a301da36",
   "metadata": {},
   "outputs": [
    {
     "data": {
      "text/plain": [
       "('Pinnacle Airlines Inc.', 0.034664900204487197)"
      ]
     },
     "execution_count": 17,
     "metadata": {},
     "output_type": "execute_result"
    }
   ],
   "source": [
    "cur.execute(q3)\n",
    "result = cur.fetchone()\n",
    "result"
   ]
  },
  {
   "cell_type": "markdown",
   "id": "3a4cb826",
   "metadata": {},
   "source": [
    "### Which of the following companies has the highest number of Cancelled flights?"
   ]
  },
  {
   "cell_type": "code",
   "execution_count": 18,
   "id": "407a1f66",
   "metadata": {},
   "outputs": [],
   "source": [
    "q4 = \"\"\"\n",
    "    SELECT\n",
    "        c.Description AS carrier,\n",
    "        SUM(o.Cancelled) AS 'Cancelled flights'\n",
    "    FROM on_time o\n",
    "    JOIN carriers c\n",
    "    ON o.UniqueCarrier = c.code\n",
    "    WHERE c.Description IN ('United Air Lines Inc.', 'American Airlines Inc.', 'Pinnacle Airlines Inc.', 'Delta Air Lines Inc.')\n",
    "    GROUP BY carrier\n",
    "    ORDER BY SUM(o.Cancelled) DESC\n",
    "    LIMIT 1;\n",
    "\"\"\""
   ]
  },
  {
   "cell_type": "code",
   "execution_count": 19,
   "id": "6139d82e",
   "metadata": {},
   "outputs": [
    {
     "data": {
      "text/plain": [
       "('American Airlines Inc.', 38835)"
      ]
     },
     "execution_count": 19,
     "metadata": {},
     "output_type": "execute_result"
    }
   ],
   "source": [
    "cur.execute(q4)\n",
    "result = cur.fetchone()\n",
    "result"
   ]
  },
  {
   "cell_type": "code",
   "execution_count": 20,
   "id": "58e67606",
   "metadata": {},
   "outputs": [],
   "source": [
    "conn.close()"
   ]
  },
  {
   "cell_type": "code",
   "execution_count": null,
   "id": "44a38ffd",
   "metadata": {},
   "outputs": [],
   "source": []
  }
 ],
 "metadata": {
  "kernelspec": {
   "display_name": "Python 3 (ipykernel)",
   "language": "python",
   "name": "python3"
  },
  "language_info": {
   "codemirror_mode": {
    "name": "ipython",
    "version": 3
   },
   "file_extension": ".py",
   "mimetype": "text/x-python",
   "name": "python",
   "nbconvert_exporter": "python",
   "pygments_lexer": "ipython3",
   "version": "3.9.12"
  }
 },
 "nbformat": 4,
 "nbformat_minor": 5
}
