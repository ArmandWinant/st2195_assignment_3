{
 "cells": [
  {
   "cell_type": "code",
   "execution_count": 1,
   "id": "d787b571",
   "metadata": {},
   "outputs": [],
   "source": [
    "import pandas as pd\n",
    "import numpy as np\n",
    "import sqlite3\n",
    "import os\n",
    "from pathlib import Path\n",
    "import re\n",
    "from io import BytesIO\n",
    "import bz2\n",
    "from datetime import datetime, time"
   ]
  },
  {
   "cell_type": "code",
   "execution_count": 2,
   "id": "99ac52db",
   "metadata": {},
   "outputs": [],
   "source": [
    "# conn = sqlite3.connect(\"flights_db.db\")"
   ]
  },
  {
   "cell_type": "code",
   "execution_count": 3,
   "id": "bd426673",
   "metadata": {},
   "outputs": [],
   "source": [
    "def timeFloatToDatetime(timeFloat):\n",
    "    if pd.notna(timeFloat):\n",
    "#         timeInt = int(timeFloat)\n",
    "#         timeString = str((timeInt // 100) % 24).zfill(2) + \":\" + str(timeInt % 100).zfill(2)\n",
    "        \n",
    "#         timeObject = datetime.strptime(timeString, \"%H:%M\")\n",
    "#         return timeObject\n",
    "        hour = int(timeFloat // 100) % 24\n",
    "        minute = int(timeFloat % 100)\n",
    "        \n",
    "        return time(hour = hour, minute = minute)\n",
    "    return timeFloat"
   ]
  },
  {
   "cell_type": "code",
   "execution_count": 4,
   "id": "ed50b1cb",
   "metadata": {},
   "outputs": [],
   "source": [
    "data_directory = str(Path.home()) + \"/Desktop/University/data-science-and-business-analytics/programming-for-data-science/dataverse_files/\""
   ]
  },
  {
   "cell_type": "code",
   "execution_count": 6,
   "id": "c26ffc8c",
   "metadata": {},
   "outputs": [
    {
     "name": "stdout",
     "output_type": "stream",
     "text": [
      "   Year  Month  DayofMonth  DayOfWeek  DepTime  CRSDepTime  ArrTime  \\\n",
      "0  1991      1           1          2   1709.0        1705   1944.0   \n",
      "1  1991      1           2          3   1704.0        1705   1946.0   \n",
      "2  1991      1           3          4   1705.0        1705   1934.0   \n",
      "3  1991      1           4          5   1709.0        1705   1951.0   \n",
      "4  1991      1           5          6   1703.0        1705   1936.0   \n",
      "\n",
      "   CRSArrTime UniqueCarrier  FlightNum  TailNum  ActualElapsedTime  \\\n",
      "0        1944            US        112      NaN              155.0   \n",
      "1        1944            US        112      NaN              162.0   \n",
      "2        1944            US        112      NaN              149.0   \n",
      "3        1944            US        112      NaN              162.0   \n",
      "4        1944            US        112      NaN              153.0   \n",
      "\n",
      "   CRSElapsedTime  AirTime  ArrDelay  \n",
      "0             159      NaN       0.0  \n",
      "1             159      NaN       2.0  \n",
      "2             159      NaN     -10.0  \n",
      "3             159      NaN       7.0  \n",
      "4             159      NaN      -8.0  \n",
      "   Year  Month  DayofMonth  DayOfWeek   DepTime CRSDepTime   ArrTime  \\\n",
      "0  1991      1           1          2  17:09:00   17:05:00  19:44:00   \n",
      "1  1991      1           2          3  17:04:00   17:05:00  19:46:00   \n",
      "2  1991      1           3          4  17:05:00   17:05:00  19:34:00   \n",
      "3  1991      1           4          5  17:09:00   17:05:00  19:51:00   \n",
      "4  1991      1           5          6  17:03:00   17:05:00  19:36:00   \n",
      "\n",
      "  CRSArrTime UniqueCarrier  FlightNum  TailNum  ActualElapsedTime  \\\n",
      "0   19:44:00            US        112      NaN              155.0   \n",
      "1   19:44:00            US        112      NaN              162.0   \n",
      "2   19:44:00            US        112      NaN              149.0   \n",
      "3   19:44:00            US        112      NaN              162.0   \n",
      "4   19:44:00            US        112      NaN              153.0   \n",
      "\n",
      "   CRSElapsedTime  AirTime  ArrDelay  \n",
      "0             159      NaN       0.0  \n",
      "1             159      NaN       2.0  \n",
      "2             159      NaN     -10.0  \n",
      "3             159      NaN       7.0  \n",
      "4             159      NaN      -8.0  \n"
     ]
    }
   ],
   "source": [
    "for file_name in os.listdir(data_directory):\n",
    "    full_path = data_directory + file_name\n",
    "    \n",
    "    year_file_re = r'^[0-9]{4}'\n",
    "    year_file_match = re.match(year_file_re, file_name)\n",
    "    \n",
    "    if year_file_match:\n",
    "        with bz2.open(full_path, \"rb\") as f:\n",
    "            data = f.read()\n",
    "            df = pd.read_csv(BytesIO(data))\n",
    "            df.DepTime = df.DepTime.apply(timeFloatToDatetime)\n",
    "            df.ArrTime = df.ArrTime.apply(timeFloatToDatetime)\n",
    "            df.CRSDepTime = df.CRSDepTime.apply(timeFloatToDatetime)\n",
    "            df.CRSArrTime = df.CRSArrTime.apply(timeFloatToDatetime)\n",
    "    break"
   ]
  },
  {
   "cell_type": "code",
   "execution_count": null,
   "id": "484979de",
   "metadata": {},
   "outputs": [],
   "source": []
  }
 ],
 "metadata": {
  "kernelspec": {
   "display_name": "Python 3 (ipykernel)",
   "language": "python",
   "name": "python3"
  },
  "language_info": {
   "codemirror_mode": {
    "name": "ipython",
    "version": 3
   },
   "file_extension": ".py",
   "mimetype": "text/x-python",
   "name": "python",
   "nbconvert_exporter": "python",
   "pygments_lexer": "ipython3",
   "version": "3.9.12"
  }
 },
 "nbformat": 4,
 "nbformat_minor": 5
}
