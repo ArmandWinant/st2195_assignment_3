{
 "cells": [
  {
   "cell_type": "code",
   "execution_count": 1,
   "id": "2d911d6c",
   "metadata": {},
   "outputs": [],
   "source": [
    "import os\n",
    "import pandas as pd\n",
    "import os\n",
    "from pathlib import Path\n",
    "import glob\n",
    "import re\n",
    "from io import BytesIO\n",
    "import bz2\n",
    "from datetime import datetime, time\n",
    "from sql_queries import planes_table_insert,  carriers_table_insert, airports_table_insert, on_time_table_insert\n",
    "from aws_utils import *\n",
    "from create_tables import *"
   ]
  },
  {
   "cell_type": "code",
   "execution_count": 2,
   "id": "16511680",
   "metadata": {},
   "outputs": [],
   "source": [
    "def timeFloatToDatetime(timeFloat):\n",
    "    if pd.notna(timeFloat):        \n",
    "        hour = int(timeFloat // 100) % 24\n",
    "        minute = int(timeFloat % 100)\n",
    "        \n",
    "        return time(hour = hour, minute = minute)\n",
    "    return timeFloat"
   ]
  },
  {
   "cell_type": "code",
   "execution_count": 3,
   "id": "f53e2092",
   "metadata": {},
   "outputs": [],
   "source": [
    "def process_csv_file(file_name, cur, insert_query):\n",
    "    df = pd.read_csv(file_name)\n",
    "    cur.executemany(insert_query, df.values.tolist())"
   ]
  },
  {
   "cell_type": "code",
   "execution_count": 4,
   "id": "0db9de17",
   "metadata": {},
   "outputs": [],
   "source": [
    "def process_bz2_file(file_name, cur, insert_query):\n",
    "    with bz2.open(file_name, \"rb\") as f:\n",
    "        data = f.read()\n",
    "        df = pd.read_csv(BytesIO(data), encoding='latin_1')\n",
    "        cur.executemany(insert_query, df.values.tolist())\n",
    "        \n",
    "#         df.DepTime = df.DepTime.apply(timeFloatToDatetime)\n",
    "#         df.ArrTime = df.ArrTime.apply(timeFloatToDatetime)\n",
    "#         df.CRSDepTime = df.CRSDepTime.apply(timeFloatToDatetime)\n",
    "#         df.CRSArrTime = df.CRSArrTime.apply(timeFloatToDatetime)"
   ]
  },
  {
   "cell_type": "code",
   "execution_count": 5,
   "id": "2fde79a1",
   "metadata": {},
   "outputs": [],
   "source": [
    "def process_data(cur, conn):\n",
    "    \"\"\"\n",
    "    Description: This function is responsible for listing the files in a directory,\n",
    "    and then executing the ingest process for each file according to the function\n",
    "    that performs the transformation to save it to the database.\n",
    "\n",
    "    Arguments:\n",
    "        cur: the cursor object.\n",
    "        conn: connection to the database.\n",
    "\n",
    "    Returns:\n",
    "        None\n",
    "    \"\"\"\n",
    "    data_directory = str(Path.home()) + \"/Desktop/University/data-science-and-business-analytics/programming-for-data-science/dataverse_files/\"\n",
    "    \n",
    "    # get all files matching extension from directory\n",
    "    csv_files = []\n",
    "    for root, dirs, files in os.walk(data_directory):\n",
    "        files = glob.glob(os.path.join(root,'*.csv'))\n",
    "        for f in files :\n",
    "            csv_files.append(os.path.abspath(f))\n",
    "            \n",
    "    # get all files matching extension from directory\n",
    "    bz2_files = []\n",
    "    for root, dirs, files in os.walk(data_directory):\n",
    "        files = glob.glob(os.path.join(root,'*.bz2'))\n",
    "        for f in files :\n",
    "            bz2_files.append(os.path.abspath(f))\n",
    "\n",
    "    # iterate over csv files and process\n",
    "    for i, datafile in enumerate(csv_files, 1):\n",
    "        if datafile.endswith('plane-data.csv'):\n",
    "            process_csv_file(datafile, cur, planes_table_insert)\n",
    "            conn.commit()\n",
    "            print('Planes file upload successful')\n",
    "        elif datafile.endswith('carriers.csv'):\n",
    "            process_csv_file(datafile, cur, carriers_table_insert)\n",
    "            conn.commit()\n",
    "            print('Carriers file upload successful')\n",
    "        elif datafile.endswith('airports.csv'):\n",
    "            process_csv_file(datafile, cur, airports_table_insert)\n",
    "            conn.commit()\n",
    "            print('Airports file upload successful')\n",
    "            \n",
    "    \n",
    "    # iterate over bz2 files and process\n",
    "    year_re = r'200(0|1|2|3|4|5){1}.csv.bz2$'\n",
    "    for i, datafile in enumerate(bz2_files, 1):\n",
    "        match = re.search(year_re, datafile)\n",
    "        \n",
    "        if match:\n",
    "            process_bz2_file(datafile, cur, on_time_table_insert)\n",
    "            conn.commit()\n",
    "            print(\"Flight file upload successful\")"
   ]
  },
  {
   "cell_type": "code",
   "execution_count": 6,
   "id": "7d518383",
   "metadata": {},
   "outputs": [
    {
     "name": "stdout",
     "output_type": "stream",
     "text": [
      "Planes file upload successful\n",
      "Airports file upload successful\n",
      "Carriers file upload successful\n",
      "Flight_file_upload_successful\n",
      "Flight_file_upload_successful\n"
     ]
    },
    {
     "name": "stderr",
     "output_type": "stream",
     "text": [
      "/var/folders/ld/g047qhg94d7fpkft6h6jkt140000gn/T/ipykernel_2943/1279402755.py:4: DtypeWarning: Columns (22) have mixed types. Specify dtype option on import or set low_memory=False.\n",
      "  df = pd.read_csv(BytesIO(data), encoding='latin_1')\n"
     ]
    },
    {
     "name": "stdout",
     "output_type": "stream",
     "text": [
      "Flight_file_upload_successful\n",
      "Flight_file_upload_successful\n",
      "Flight_file_upload_successful\n",
      "Flight_file_upload_successful\n"
     ]
    }
   ],
   "source": [
    "# initialize a new db\n",
    "cur, conn = initialise_db()\n",
    "drop_tables(cur, conn)\n",
    "create_tables(cur, conn)\n",
    "\n",
    "process_data(cur, conn)\n",
    "\n",
    "conn.close()\n",
    "\n",
    "upload_dbfile('airline2.db')"
   ]
  },
  {
   "cell_type": "code",
   "execution_count": null,
   "id": "2c8c2159",
   "metadata": {},
   "outputs": [],
   "source": []
  }
 ],
 "metadata": {
  "kernelspec": {
   "display_name": "Python 3 (ipykernel)",
   "language": "python",
   "name": "python3"
  },
  "language_info": {
   "codemirror_mode": {
    "name": "ipython",
    "version": 3
   },
   "file_extension": ".py",
   "mimetype": "text/x-python",
   "name": "python",
   "nbconvert_exporter": "python",
   "pygments_lexer": "ipython3",
   "version": "3.9.12"
  }
 },
 "nbformat": 4,
 "nbformat_minor": 5
}
