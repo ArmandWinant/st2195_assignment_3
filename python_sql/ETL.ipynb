{
 "cells": [
  {
   "cell_type": "markdown",
   "id": "cef06530",
   "metadata": {},
   "source": [
    "# Practice Assignment III\n",
    "## *Python*\n",
    "> Load the files of [this dataset](https://dataverse.harvard.edu/dataset.xhtml?persistentId=doi:10.7910/DVN/HG7NV7) into an SQLite database."
   ]
  },
  {
   "cell_type": "markdown",
   "id": "8da13697",
   "metadata": {},
   "source": [
    "#### Import libraries"
   ]
  },
  {
   "cell_type": "code",
   "execution_count": 7,
   "id": "2d911d6c",
   "metadata": {},
   "outputs": [],
   "source": [
    "import os\n",
    "import pandas as pd\n",
    "import os\n",
    "from pathlib import Path\n",
    "import glob\n",
    "import re\n",
    "from io import BytesIO\n",
    "import bz2\n",
    "from datetime import datetime, time\n",
    "from aws_utils import *\n",
    "from create_tables import *"
   ]
  },
  {
   "cell_type": "markdown",
   "id": "7bd8f2b2",
   "metadata": {},
   "source": [
    "#### Data transformation functions"
   ]
  },
  {
   "cell_type": "code",
   "execution_count": 8,
   "id": "16511680",
   "metadata": {},
   "outputs": [],
   "source": [
    "def timeFloatToDatetime(timeFloat):\n",
    "    \"\"\"\n",
    "    Converts a float in the form hhmm to a datetime.time object.\n",
    "\n",
    "    Inputs\n",
    "        timeFloat: float\n",
    "\n",
    "    Returns\n",
    "        datetime.time object\n",
    "    \"\"\"\n",
    "    try:\n",
    "        if pd.notna(timeFloat):\n",
    "            hour = int(timeFloat // 100) % 24\n",
    "            minute = int(timeFloat % 100)\n",
    "            \n",
    "            return time(hour = hour, minute = minute)\n",
    "        return timeFloat\n",
    "    except ValueError:\n",
    "        return None"
   ]
  },
  {
   "cell_type": "markdown",
   "id": "2039f2f4",
   "metadata": {},
   "source": [
    "#### Reading and uploading the data\n",
    "Separate functions are used to handle CSV and BS2 files.<br>\n",
    "Both read the data into Pandas dataframes, and leverage to_sql method to create and fill tables."
   ]
  },
  {
   "cell_type": "code",
   "execution_count": 9,
   "id": "f53e2092",
   "metadata": {},
   "outputs": [],
   "source": [
    "def process_csv_file(file_name, conn, table_name):\n",
    "    df = pd.read_csv(file_name)\n",
    "    df.to_sql(table_name, conn, if_exists=\"replace\", index=False)"
   ]
  },
  {
   "cell_type": "code",
   "execution_count": 10,
   "id": "0db9de17",
   "metadata": {},
   "outputs": [],
   "source": [
    "def process_bz2_file(file_name, conn, table_name):\n",
    "    with bz2.open(file_name, \"rb\") as f:\n",
    "        data = f.read()\n",
    "        df = pd.read_csv(BytesIO(data), encoding='latin_1')\n",
    "        \n",
    "        df.DepTime = df.DepTime.apply(timeFloatToDatetime)\n",
    "        df.ArrTime = df.ArrTime.apply(timeFloatToDatetime)\n",
    "        df.CRSDepTime = df.CRSDepTime.apply(timeFloatToDatetime)\n",
    "        df.CRSArrTime = df.CRSArrTime.apply(timeFloatToDatetime)\n",
    "        \n",
    "        df.to_sql(table_name, conn, if_exists=\"append\", index=False)"
   ]
  },
  {
   "cell_type": "markdown",
   "id": "c246ca29",
   "metadata": {},
   "source": [
    "#### Apply ETL scripts to input files\n",
    "Loop through the files and selectively launch ETL scripts to store the data in SQLite tables."
   ]
  },
  {
   "cell_type": "code",
   "execution_count": 11,
   "id": "2fde79a1",
   "metadata": {},
   "outputs": [],
   "source": [
    "def process_data(cur, conn):\n",
    "    \"\"\"\n",
    "    Description: This function is responsible for listing the files in a directory,\n",
    "    and then executing the ingest process for each file according to the function\n",
    "    that performs the transformation to save it to the database.\n",
    "\n",
    "    Arguments:\n",
    "        cur: the cursor object.\n",
    "        conn: connection to the database.\n",
    "\n",
    "    Returns:\n",
    "        None\n",
    "    \"\"\"\n",
    "    data_directory = str(Path.home()) + \"/Desktop/University/data-science-and-business-analytics/programming-for-data-science/dataverse_files/\"\n",
    "    \n",
    "    # get all files matching extension from directory\n",
    "    csv_files = []\n",
    "    for root, dirs, files in os.walk(data_directory):\n",
    "        files = glob.glob(os.path.join(root,'*.csv'))\n",
    "        for f in files :\n",
    "            csv_files.append(os.path.abspath(f))\n",
    "            \n",
    "    # get all files matching extension from directory\n",
    "    bz2_files = []\n",
    "    for root, dirs, files in os.walk(data_directory):\n",
    "        files = glob.glob(os.path.join(root,'*.bz2'))\n",
    "        for f in files :\n",
    "            bz2_files.append(os.path.abspath(f))\n",
    "\n",
    "    # iterate over csv files and process\n",
    "    for i, datafile in enumerate(csv_files, 1):\n",
    "        if datafile.endswith('plane-data.csv'):\n",
    "            process_csv_file(datafile, conn, \"planes\")\n",
    "            print('Planes file upload successful')\n",
    "        elif datafile.endswith('carriers.csv'):\n",
    "            process_csv_file(datafile, conn, \"carriers\")\n",
    "            print('Carriers file upload successful')\n",
    "        elif datafile.endswith('airports.csv'):\n",
    "            process_csv_file(datafile, conn, \"airports\")\n",
    "            print('Airports file upload successful')\n",
    "            \n",
    "    \n",
    "    # iterate over bz2 files and process\n",
    "    year_re = r'200(0|1|2|3|4|5){1}.csv.bz2$'\n",
    "    for i, datafile in enumerate(bz2_files, 1):\n",
    "        match = re.search(year_re, datafile)\n",
    "        \n",
    "        if match:\n",
    "            process_bz2_file(datafile, conn, \"on_time\")\n",
    "            print(\"Flight file upload successful\")"
   ]
  },
  {
   "cell_type": "markdown",
   "id": "e9e34619",
   "metadata": {},
   "source": [
    "#### Run the database initialisation and uploading functions, then close connection."
   ]
  },
  {
   "cell_type": "code",
   "execution_count": 12,
   "id": "7d518383",
   "metadata": {},
   "outputs": [
    {
     "name": "stdout",
     "output_type": "stream",
     "text": [
      "Planes file upload successful\n",
      "Airports file upload successful\n",
      "Carriers file upload successful\n",
      "Flight file upload successful\n",
      "Flight file upload successful\n",
      "Flight file upload successful\n"
     ]
    }
   ],
   "source": [
    "# initialize a new db\n",
    "cur, conn = initialise_db()\n",
    "process_data(cur, conn)\n",
    "conn.close()\n",
    "\n",
    "# upload_dbfile('airline2.db')"
   ]
  },
  {
   "cell_type": "code",
   "execution_count": null,
   "id": "2c8c2159",
   "metadata": {},
   "outputs": [],
   "source": []
  }
 ],
 "metadata": {
  "kernelspec": {
   "display_name": "Python 3 (ipykernel)",
   "language": "python",
   "name": "python3"
  },
  "language_info": {
   "codemirror_mode": {
    "name": "ipython",
    "version": 3
   },
   "file_extension": ".py",
   "mimetype": "text/x-python",
   "name": "python",
   "nbconvert_exporter": "python",
   "pygments_lexer": "ipython3",
   "version": "3.9.12"
  },
  "vscode": {
   "interpreter": {
    "hash": "aee8b7b246df8f9039afb4144a1f6fd8d2ca17a180786b69acc140d282b71a49"
   }
  }
 },
 "nbformat": 4,
 "nbformat_minor": 5
}
