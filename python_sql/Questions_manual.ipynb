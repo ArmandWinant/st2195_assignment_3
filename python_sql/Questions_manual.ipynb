{
 "cells": [
  {
   "cell_type": "code",
   "execution_count": 1,
   "id": "32f29017",
   "metadata": {},
   "outputs": [],
   "source": [
    "import sqlite3\n",
    "import pandas as pd\n",
    "from aws_utils import *"
   ]
  },
  {
   "cell_type": "code",
   "execution_count": 2,
   "id": "864c2b05",
   "metadata": {},
   "outputs": [],
   "source": [
    "# client, resource = aws_connect()"
   ]
  },
  {
   "cell_type": "code",
   "execution_count": 3,
   "id": "334e6966",
   "metadata": {},
   "outputs": [],
   "source": [
    "# client.download_file('flights-db', 'db-file', 'airline2.db')\n",
    "os.chdir('..')"
   ]
  },
  {
   "cell_type": "code",
   "execution_count": 4,
   "id": "3e51d391",
   "metadata": {},
   "outputs": [],
   "source": [
    "conn = sqlite3.connect(\"airline2.db\")\n",
    "cur = conn.cursor()"
   ]
  },
  {
   "cell_type": "markdown",
   "id": "7b6abd59",
   "metadata": {},
   "source": [
    "### Which of the following airplanes has the lowest associated average departure delay (excluding cancelled and diverted flights)?"
   ]
  },
  {
   "cell_type": "code",
   "execution_count": 5,
   "id": "82fc4708",
   "metadata": {},
   "outputs": [],
   "source": [
    "q1 = \"\"\"\n",
    "    SELECT\n",
    "        model AS model,\n",
    "        AVG(on_time.departure_delay) AS avg_delay\n",
    "    FROM planes\n",
    "    JOIN on_time USING(tail_number)\n",
    "    WHERE on_time.cancelled = 0\n",
    "    AND on_time.diverted = 0\n",
    "    AND on_time.departure_delay > 0\n",
    "    GROUP BY model\n",
    "    ORDER BY avg_delay\n",
    "    LIMIT 1\n",
    "\"\"\""
   ]
  },
  {
   "cell_type": "code",
   "execution_count": 6,
   "id": "007700cc",
   "metadata": {},
   "outputs": [
    {
     "data": {
      "text/plain": [
       "('737-230', 12.956403269754768)"
      ]
     },
     "execution_count": 6,
     "metadata": {},
     "output_type": "execute_result"
    }
   ],
   "source": [
    "cur.execute(q1)\n",
    "result = cur.fetchone()\n",
    "result"
   ]
  },
  {
   "cell_type": "markdown",
   "id": "3a1c6c40",
   "metadata": {},
   "source": [
    "### Which of the following cities has the highest number of inbound flights (excluding cancelled flights)?"
   ]
  },
  {
   "cell_type": "code",
   "execution_count": 7,
   "id": "69f1cf7f",
   "metadata": {},
   "outputs": [],
   "source": [
    "q2 = \"\"\"\n",
    "    SELECT\n",
    "        airports.city AS city,\n",
    "        COUNT(*) AS total\n",
    "    FROM airports\n",
    "    JOIN on_time\n",
    "    ON on_time.destination = airports.iata\n",
    "    WHERE on_time.cancelled = 0\n",
    "    GROUP BY airports.city\n",
    "    ORDER BY total DESC\n",
    "    LIMIT 1;\n",
    "\"\"\""
   ]
  },
  {
   "cell_type": "code",
   "execution_count": null,
   "id": "f92b041d",
   "metadata": {},
   "outputs": [],
   "source": [
    "cur.execute(q2)\n",
    "result = cur.fetchone()\n",
    "result"
   ]
  },
  {
   "cell_type": "markdown",
   "id": "db06b1a3",
   "metadata": {},
   "source": [
    "### Which of the following companies has the highest number of cancelled flights, relative to their number of total flights?"
   ]
  },
  {
   "cell_type": "code",
   "execution_count": null,
   "id": "03d96655",
   "metadata": {},
   "outputs": [],
   "source": [
    "q3 = \"\"\"\n",
    "    SELECT\n",
    "        q1.carrier AS carrier,\n",
    "        (CAST(q1.numerator AS FLOAT)/ CAST(q2.denominator AS FLOAT)) AS ratio\n",
    "    FROM (\n",
    "        SELECT\n",
    "            carriers.description AS carrier,\n",
    "            COUNT(*) AS numerator\n",
    "        FROM carriers\n",
    "        JOIN on_time\n",
    "        ON on_time.unique_carrier = carriers.code\n",
    "        WHERE on_time.cancelled = 1\n",
    "        AND carriers.description IN ('United Air Lines Inc.', 'American Airlines Inc.', 'Pinnacle Airlines Inc.', 'Delta Air Lines Inc.')\n",
    "        GROUP BY carriers.description) AS q1\n",
    "    JOIN (\n",
    "        SELECT\n",
    "            carriers.description AS carrier,\n",
    "            COUNT(*) AS denominator\n",
    "        FROM carriers\n",
    "        JOIN on_time\n",
    "        ON on_time.unique_carrier = carriers.code\n",
    "        WHERE carriers.description IN ('United Air Lines Inc.', 'American Airlines Inc.', 'Pinnacle Airlines Inc.', 'Delta Air Lines Inc.')\n",
    "        GROUP BY carriers.description) AS q2 USING(carrier)\n",
    "    ORDER BY ratio DESC\n",
    "    LIMIT 1;\n",
    "\"\"\""
   ]
  },
  {
   "cell_type": "code",
   "execution_count": null,
   "id": "a301da36",
   "metadata": {},
   "outputs": [],
   "source": [
    "cur.execute(q3)\n",
    "result = cur.fetchone()\n",
    "result"
   ]
  },
  {
   "cell_type": "markdown",
   "id": "3a4cb826",
   "metadata": {},
   "source": [
    "### Which of the following companies has the highest number of cancelled flights?"
   ]
  },
  {
   "cell_type": "code",
   "execution_count": null,
   "id": "407a1f66",
   "metadata": {},
   "outputs": [],
   "source": [
    "q4 = \"\"\"\n",
    "    SELECT\n",
    "        c.description AS carrier,\n",
    "        SUM(o.cancelled) AS 'cancelled flights'\n",
    "    FROM on_time o\n",
    "    JOIN carriers c\n",
    "    ON o.unique_carrier = c.code\n",
    "    WHERE c.description IN ('United Air Lines Inc.', 'American Airlines Inc.', 'Pinnacle Airlines Inc.', 'Delta Air Lines Inc.')\n",
    "    GROUP BY carrier\n",
    "    ORDER BY SUM(o.cancelled) DESC\n",
    "    LIMIT 1;\n",
    "\"\"\""
   ]
  },
  {
   "cell_type": "code",
   "execution_count": null,
   "id": "6139d82e",
   "metadata": {},
   "outputs": [],
   "source": [
    "cur.execute(q4)\n",
    "result = cur.fetchone()\n",
    "result"
   ]
  },
  {
   "cell_type": "code",
   "execution_count": null,
   "id": "58e67606",
   "metadata": {},
   "outputs": [],
   "source": [
    "conn.close()"
   ]
  },
  {
   "cell_type": "code",
   "execution_count": null,
   "id": "44a38ffd",
   "metadata": {},
   "outputs": [],
   "source": []
  }
 ],
 "metadata": {
  "kernelspec": {
   "display_name": "Python 3 (ipykernel)",
   "language": "python",
   "name": "python3"
  },
  "language_info": {
   "codemirror_mode": {
    "name": "ipython",
    "version": 3
   },
   "file_extension": ".py",
   "mimetype": "text/x-python",
   "name": "python",
   "nbconvert_exporter": "python",
   "pygments_lexer": "ipython3",
   "version": "3.9.12"
  }
 },
 "nbformat": 4,
 "nbformat_minor": 5
}
