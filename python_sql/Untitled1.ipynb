{
 "cells": [
  {
   "cell_type": "code",
   "execution_count": 1,
   "id": "2d911d6c",
   "metadata": {},
   "outputs": [],
   "source": [
    "import os\n",
    "import sqlite3\n",
    "import pandas as pd\n",
    "import numpy as np\n",
    "import os\n",
    "from pathlib import Path\n",
    "import glob\n",
    "import re\n",
    "from io import BytesIO\n",
    "import bz2\n",
    "from datetime import datetime, time\n",
    "from sql_queries import create_table_queries, drop_table_queries, planes_table_insert,  carriers_table_insert, airports_table_insert"
   ]
  },
  {
   "cell_type": "code",
   "execution_count": 2,
   "id": "f7c1326e",
   "metadata": {},
   "outputs": [],
   "source": [
    "def initialise_db():\n",
    "    db_filename = \"flights_db.db\"\n",
    "    \n",
    "    # remove the db file if it exists\n",
    "    try:\n",
    "        os.remove(db_filename)\n",
    "    except FileNotFoundError:\n",
    "        pass\n",
    "    \n",
    "    # create database and open connection\n",
    "    conn = sqlite3.connect(db_filename)\n",
    "    cur = conn.cursor()\n",
    "    \n",
    "    return cur, conn"
   ]
  },
  {
   "cell_type": "code",
   "execution_count": 3,
   "id": "a2745cfa",
   "metadata": {},
   "outputs": [],
   "source": [
    "def drop_tables(cur, conn):\n",
    "    \"\"\"\n",
    "    Drops each table using the queries in `drop_table_queries` list.\n",
    "    \"\"\"\n",
    "    for query in drop_table_queries:\n",
    "        cur.execute(query)\n",
    "        conn.commit()"
   ]
  },
  {
   "cell_type": "code",
   "execution_count": 4,
   "id": "3f7f0de3",
   "metadata": {},
   "outputs": [],
   "source": [
    "def create_tables(cur, conn):\n",
    "    \"\"\"\n",
    "    Creates each table using the queries in `create_table_queries` list. \n",
    "    \"\"\"\n",
    "    for query in create_table_queries:\n",
    "        cur.execute(query)\n",
    "        conn.commit()"
   ]
  },
  {
   "cell_type": "code",
   "execution_count": 5,
   "id": "e2ad14eb",
   "metadata": {},
   "outputs": [],
   "source": [
    "def process_csv_file(file_name, cur, insert_query):\n",
    "    df = pd.read_csv(file_name)\n",
    "    \n",
    "    for i, row in df.iterrows():\n",
    "        cur.execute(insert_query, list(row))"
   ]
  },
  {
   "cell_type": "code",
   "execution_count": 6,
   "id": "adf948a9",
   "metadata": {},
   "outputs": [],
   "source": [
    "# def process_carriers_file(file_name, cur):\n",
    "#     df = pd.read_csv(file_name)\n",
    "    \n",
    "#     for i, row in df.iterrows():\n",
    "#         cur.execute(carriers_table_insert, list(row))"
   ]
  },
  {
   "cell_type": "code",
   "execution_count": 7,
   "id": "22c5705e",
   "metadata": {},
   "outputs": [],
   "source": [
    "# def process_airports_file(file_name, cur):\n",
    "#     df = pd.read_csv(file_name)\n",
    "    \n",
    "#     for i, row in df.iterrows():\n",
    "#         cur.execute(airports_table_insert, list(row))"
   ]
  },
  {
   "cell_type": "code",
   "execution_count": 8,
   "id": "0aaace82",
   "metadata": {},
   "outputs": [],
   "source": [
    "def process_data(cur, conn):\n",
    "    \"\"\"\n",
    "    Description: This function is responsible for listing the files in a directory,\n",
    "    and then executing the ingest process for each file according to the function\n",
    "    that performs the transformation to save it to the database.\n",
    "\n",
    "    Arguments:\n",
    "        cur: the cursor object.\n",
    "        conn: connection to the database.\n",
    "        filepath: log data or song data file path.\n",
    "        func: function that transforms the data and inserts it into the database.\n",
    "\n",
    "    Returns:\n",
    "        None\n",
    "    \"\"\"\n",
    "    data_directory = str(Path.home()) + \"/Desktop/University/data-science-and-business-analytics/programming-for-data-science/dataverse_files/\"\n",
    "    \n",
    "    # get all files matching extension from directory\n",
    "    all_files = []\n",
    "    for root, dirs, files in os.walk(data_directory):\n",
    "        files = glob.glob(os.path.join(root,'*'))\n",
    "        for f in files :\n",
    "            all_files.append(os.path.abspath(f))\n",
    "            \n",
    "    # get total number of files found\n",
    "    num_files = len(all_files)\n",
    "    print('{} files found in {}'.format(num_files, data_directory))\n",
    "\n",
    "    # iterate over files and process\n",
    "    for i, datafile in enumerate(all_files, 1):\n",
    "        if datafile.endswith('plane-data.csv'):\n",
    "            process_csv_file(datafile, cur, planes_table_insert)\n",
    "            conn.commit()\n",
    "        elif datafile.endswith('carriers.csv'):\n",
    "            process_csv_file(datafile, cur, carriers_table_insert)\n",
    "            conn.commit()\n",
    "        elif datafile.endswith('airports.csv'):\n",
    "            process_csv_file(datafile, cur, airports_table_insert)\n",
    "        print('{}/{} files processed.'.format(i, num_files))"
   ]
  },
  {
   "cell_type": "code",
   "execution_count": 9,
   "id": "c4551121",
   "metadata": {},
   "outputs": [
    {
     "name": "stdout",
     "output_type": "stream",
     "text": [
      "26 files found in /Users/bastienwinant/Desktop/University/data-science-and-business-analytics/programming-for-data-science/dataverse_files/\n",
      "1/26 files processed.\n",
      "2/26 files processed.\n",
      "3/26 files processed.\n",
      "4/26 files processed.\n",
      "5/26 files processed.\n",
      "6/26 files processed.\n",
      "7/26 files processed.\n",
      "8/26 files processed.\n",
      "9/26 files processed.\n",
      "10/26 files processed.\n",
      "11/26 files processed.\n",
      "12/26 files processed.\n",
      "13/26 files processed.\n",
      "14/26 files processed.\n",
      "15/26 files processed.\n",
      "16/26 files processed.\n",
      "17/26 files processed.\n",
      "18/26 files processed.\n",
      "19/26 files processed.\n",
      "20/26 files processed.\n",
      "21/26 files processed.\n",
      "22/26 files processed.\n",
      "23/26 files processed.\n",
      "24/26 files processed.\n",
      "25/26 files processed.\n",
      "26/26 files processed.\n"
     ]
    }
   ],
   "source": [
    "# initialize a new db\n",
    "cur, conn = initialise_db()\n",
    "create_tables(cur, conn)\n",
    "\n",
    "\n",
    "# conn = sqlite3.connect(\"flights_db.db\")\n",
    "# cur = conn.cursor()\n",
    "\n",
    "process_data(cur, conn)\n",
    "\n",
    "conn.close()"
   ]
  },
  {
   "cell_type": "code",
   "execution_count": 10,
   "id": "ebebe904",
   "metadata": {},
   "outputs": [],
   "source": [
    "conn = sqlite3.connect(\"flights_db.db\")\n",
    "cur = conn.cursor()\n",
    "cur.execute('SELECT * FROM airports;')\n",
    "rows = cur.fetchall()\n",
    "conn.close()"
   ]
  }
 ],
 "metadata": {
  "kernelspec": {
   "display_name": "Python 3 (ipykernel)",
   "language": "python",
   "name": "python3"
  },
  "language_info": {
   "codemirror_mode": {
    "name": "ipython",
    "version": 3
   },
   "file_extension": ".py",
   "mimetype": "text/x-python",
   "name": "python",
   "nbconvert_exporter": "python",
   "pygments_lexer": "ipython3",
   "version": "3.9.12"
  }
 },
 "nbformat": 4,
 "nbformat_minor": 5
}
